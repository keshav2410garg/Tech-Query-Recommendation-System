{
 "cells": [
  {
   "cell_type": "markdown",
   "id": "c699fad6",
   "metadata": {},
   "source": [
    "## Data Analysis and Visualisation\n",
    "**Importing relevant libraries**"
   ]
  },
  {
   "cell_type": "code",
   "execution_count": 2,
   "id": "3a7cee7c",
   "metadata": {},
   "outputs": [],
   "source": [
    "import pandas as pd\n",
    "import seaborn as sns\n",
    "import matplotlib.pyplot as plt"
   ]
  },
  {
   "cell_type": "markdown",
   "id": "5690dc6e",
   "metadata": {},
   "source": [
    "**Reads a comma-separated value into dataFrame**"
   ]
  },
  {
   "cell_type": "code",
   "execution_count": 3,
   "id": "6465841e",
   "metadata": {},
   "outputs": [],
   "source": [
    "query = pd.read_csv('dataset/clean_data.csv')"
   ]
  },
  {
   "cell_type": "markdown",
   "id": "d5b941de",
   "metadata": {},
   "source": [
    "**Viewing the dataset**"
   ]
  },
  {
   "cell_type": "code",
   "execution_count": 4,
   "id": "1f453524",
   "metadata": {},
   "outputs": [
    {
     "data": {
      "text/html": [
       "<div>\n",
       "<style scoped>\n",
       "    .dataframe tbody tr th:only-of-type {\n",
       "        vertical-align: middle;\n",
       "    }\n",
       "\n",
       "    .dataframe tbody tr th {\n",
       "        vertical-align: top;\n",
       "    }\n",
       "\n",
       "    .dataframe thead th {\n",
       "        text-align: right;\n",
       "    }\n",
       "</style>\n",
       "<table border=\"1\" class=\"dataframe\">\n",
       "  <thead>\n",
       "    <tr style=\"text-align: right;\">\n",
       "      <th></th>\n",
       "      <th>Unnamed: 0</th>\n",
       "      <th>ques_link</th>\n",
       "      <th>vote_count</th>\n",
       "      <th>answer_count</th>\n",
       "      <th>ques_title</th>\n",
       "      <th>ques_summ</th>\n",
       "      <th>keywords</th>\n",
       "      <th>date</th>\n",
       "    </tr>\n",
       "  </thead>\n",
       "  <tbody>\n",
       "    <tr>\n",
       "      <th>0</th>\n",
       "      <td>0</td>\n",
       "      <td>\"/questions/11227809/why-is-processing-a-sorte...</td>\n",
       "      <td>26265</td>\n",
       "      <td>28</td>\n",
       "      <td>Why is processing a sorted array faster than p...</td>\n",
       "      <td>Here is a piece of C++ code that shows some ve...</td>\n",
       "      <td>['java', 'c++', 'performance', 'cpu-architectu...</td>\n",
       "      <td>2012-06-27</td>\n",
       "    </tr>\n",
       "    <tr>\n",
       "      <th>1</th>\n",
       "      <td>1</td>\n",
       "      <td>\"/questions/927358/how-do-i-undo-the-most-rece...</td>\n",
       "      <td>24035</td>\n",
       "      <td>98</td>\n",
       "      <td>How do I undo the most recent local commits in...</td>\n",
       "      <td>I accidentally committed the wrong files to Gi...</td>\n",
       "      <td>['git', 'version-control', 'git-commit', 'undo']</td>\n",
       "      <td>2010-06-30</td>\n",
       "    </tr>\n",
       "    <tr>\n",
       "      <th>2</th>\n",
       "      <td>2</td>\n",
       "      <td>\"/questions/2003505/how-do-i-delete-a-git-bran...</td>\n",
       "      <td>18997</td>\n",
       "      <td>41</td>\n",
       "      <td>How do I delete a Git branch locally and remot...</td>\n",
       "      <td>I want to delete a branch both locally and rem...</td>\n",
       "      <td>['git', 'version-control', 'git-branch', 'git-...</td>\n",
       "      <td>2010-01-05</td>\n",
       "    </tr>\n",
       "    <tr>\n",
       "      <th>3</th>\n",
       "      <td>3</td>\n",
       "      <td>\"/questions/292357/what-is-the-difference-betw...</td>\n",
       "      <td>13069</td>\n",
       "      <td>38</td>\n",
       "      <td>What is the difference between 'git pull' and ...</td>\n",
       "      <td>What are the differences between git pull and ...</td>\n",
       "      <td>['git', 'version-control', 'git-pull', 'git-fe...</td>\n",
       "      <td>2008-11-15</td>\n",
       "    </tr>\n",
       "    <tr>\n",
       "      <th>4</th>\n",
       "      <td>4</td>\n",
       "      <td>\"/questions/231767/what-does-the-yield-keyword...</td>\n",
       "      <td>11895</td>\n",
       "      <td>47</td>\n",
       "      <td>What does the \"yield\" keyword do?</td>\n",
       "      <td>What is the use of the yield keyword in Python...</td>\n",
       "      <td>['python', 'iterator', 'generator', 'yield', '...</td>\n",
       "      <td>2008-10-23</td>\n",
       "    </tr>\n",
       "  </tbody>\n",
       "</table>\n",
       "</div>"
      ],
      "text/plain": [
       "   Unnamed: 0                                          ques_link  vote_count  \\\n",
       "0           0  \"/questions/11227809/why-is-processing-a-sorte...       26265   \n",
       "1           1  \"/questions/927358/how-do-i-undo-the-most-rece...       24035   \n",
       "2           2  \"/questions/2003505/how-do-i-delete-a-git-bran...       18997   \n",
       "3           3  \"/questions/292357/what-is-the-difference-betw...       13069   \n",
       "4           4  \"/questions/231767/what-does-the-yield-keyword...       11895   \n",
       "\n",
       "   answer_count                                         ques_title  \\\n",
       "0            28  Why is processing a sorted array faster than p...   \n",
       "1            98  How do I undo the most recent local commits in...   \n",
       "2            41  How do I delete a Git branch locally and remot...   \n",
       "3            38  What is the difference between 'git pull' and ...   \n",
       "4            47                  What does the \"yield\" keyword do?   \n",
       "\n",
       "                                           ques_summ  \\\n",
       "0  Here is a piece of C++ code that shows some ve...   \n",
       "1  I accidentally committed the wrong files to Gi...   \n",
       "2  I want to delete a branch both locally and rem...   \n",
       "3  What are the differences between git pull and ...   \n",
       "4  What is the use of the yield keyword in Python...   \n",
       "\n",
       "                                            keywords        date  \n",
       "0  ['java', 'c++', 'performance', 'cpu-architectu...  2012-06-27  \n",
       "1   ['git', 'version-control', 'git-commit', 'undo']  2010-06-30  \n",
       "2  ['git', 'version-control', 'git-branch', 'git-...  2010-01-05  \n",
       "3  ['git', 'version-control', 'git-pull', 'git-fe...  2008-11-15  \n",
       "4  ['python', 'iterator', 'generator', 'yield', '...  2008-10-23  "
      ]
     },
     "execution_count": 4,
     "metadata": {},
     "output_type": "execute_result"
    }
   ],
   "source": [
    "query.head()"
   ]
  },
  {
   "cell_type": "markdown",
   "id": "4f33a80d",
   "metadata": {},
   "source": [
    "**Dropping the \"Unnamed: 0\" column from the dataset**"
   ]
  },
  {
   "cell_type": "code",
   "execution_count": 5,
   "id": "f94af29c",
   "metadata": {},
   "outputs": [],
   "source": [
    "query.drop('Unnamed: 0',axis=1,inplace=True)"
   ]
  },
  {
   "cell_type": "markdown",
   "id": "dc25747b",
   "metadata": {},
   "source": [
    "**Viewing the updated dataset**"
   ]
  },
  {
   "cell_type": "code",
   "execution_count": 6,
   "id": "5f75dda3",
   "metadata": {},
   "outputs": [
    {
     "data": {
      "text/html": [
       "<div>\n",
       "<style scoped>\n",
       "    .dataframe tbody tr th:only-of-type {\n",
       "        vertical-align: middle;\n",
       "    }\n",
       "\n",
       "    .dataframe tbody tr th {\n",
       "        vertical-align: top;\n",
       "    }\n",
       "\n",
       "    .dataframe thead th {\n",
       "        text-align: right;\n",
       "    }\n",
       "</style>\n",
       "<table border=\"1\" class=\"dataframe\">\n",
       "  <thead>\n",
       "    <tr style=\"text-align: right;\">\n",
       "      <th></th>\n",
       "      <th>ques_link</th>\n",
       "      <th>vote_count</th>\n",
       "      <th>answer_count</th>\n",
       "      <th>ques_title</th>\n",
       "      <th>ques_summ</th>\n",
       "      <th>keywords</th>\n",
       "      <th>date</th>\n",
       "    </tr>\n",
       "  </thead>\n",
       "  <tbody>\n",
       "    <tr>\n",
       "      <th>0</th>\n",
       "      <td>\"/questions/11227809/why-is-processing-a-sorte...</td>\n",
       "      <td>26265</td>\n",
       "      <td>28</td>\n",
       "      <td>Why is processing a sorted array faster than p...</td>\n",
       "      <td>Here is a piece of C++ code that shows some ve...</td>\n",
       "      <td>['java', 'c++', 'performance', 'cpu-architectu...</td>\n",
       "      <td>2012-06-27</td>\n",
       "    </tr>\n",
       "    <tr>\n",
       "      <th>1</th>\n",
       "      <td>\"/questions/927358/how-do-i-undo-the-most-rece...</td>\n",
       "      <td>24035</td>\n",
       "      <td>98</td>\n",
       "      <td>How do I undo the most recent local commits in...</td>\n",
       "      <td>I accidentally committed the wrong files to Gi...</td>\n",
       "      <td>['git', 'version-control', 'git-commit', 'undo']</td>\n",
       "      <td>2010-06-30</td>\n",
       "    </tr>\n",
       "    <tr>\n",
       "      <th>2</th>\n",
       "      <td>\"/questions/2003505/how-do-i-delete-a-git-bran...</td>\n",
       "      <td>18997</td>\n",
       "      <td>41</td>\n",
       "      <td>How do I delete a Git branch locally and remot...</td>\n",
       "      <td>I want to delete a branch both locally and rem...</td>\n",
       "      <td>['git', 'version-control', 'git-branch', 'git-...</td>\n",
       "      <td>2010-01-05</td>\n",
       "    </tr>\n",
       "    <tr>\n",
       "      <th>3</th>\n",
       "      <td>\"/questions/292357/what-is-the-difference-betw...</td>\n",
       "      <td>13069</td>\n",
       "      <td>38</td>\n",
       "      <td>What is the difference between 'git pull' and ...</td>\n",
       "      <td>What are the differences between git pull and ...</td>\n",
       "      <td>['git', 'version-control', 'git-pull', 'git-fe...</td>\n",
       "      <td>2008-11-15</td>\n",
       "    </tr>\n",
       "    <tr>\n",
       "      <th>4</th>\n",
       "      <td>\"/questions/231767/what-does-the-yield-keyword...</td>\n",
       "      <td>11895</td>\n",
       "      <td>47</td>\n",
       "      <td>What does the \"yield\" keyword do?</td>\n",
       "      <td>What is the use of the yield keyword in Python...</td>\n",
       "      <td>['python', 'iterator', 'generator', 'yield', '...</td>\n",
       "      <td>2008-10-23</td>\n",
       "    </tr>\n",
       "  </tbody>\n",
       "</table>\n",
       "</div>"
      ],
      "text/plain": [
       "                                           ques_link  vote_count  \\\n",
       "0  \"/questions/11227809/why-is-processing-a-sorte...       26265   \n",
       "1  \"/questions/927358/how-do-i-undo-the-most-rece...       24035   \n",
       "2  \"/questions/2003505/how-do-i-delete-a-git-bran...       18997   \n",
       "3  \"/questions/292357/what-is-the-difference-betw...       13069   \n",
       "4  \"/questions/231767/what-does-the-yield-keyword...       11895   \n",
       "\n",
       "   answer_count                                         ques_title  \\\n",
       "0            28  Why is processing a sorted array faster than p...   \n",
       "1            98  How do I undo the most recent local commits in...   \n",
       "2            41  How do I delete a Git branch locally and remot...   \n",
       "3            38  What is the difference between 'git pull' and ...   \n",
       "4            47                  What does the \"yield\" keyword do?   \n",
       "\n",
       "                                           ques_summ  \\\n",
       "0  Here is a piece of C++ code that shows some ve...   \n",
       "1  I accidentally committed the wrong files to Gi...   \n",
       "2  I want to delete a branch both locally and rem...   \n",
       "3  What are the differences between git pull and ...   \n",
       "4  What is the use of the yield keyword in Python...   \n",
       "\n",
       "                                            keywords        date  \n",
       "0  ['java', 'c++', 'performance', 'cpu-architectu...  2012-06-27  \n",
       "1   ['git', 'version-control', 'git-commit', 'undo']  2010-06-30  \n",
       "2  ['git', 'version-control', 'git-branch', 'git-...  2010-01-05  \n",
       "3  ['git', 'version-control', 'git-pull', 'git-fe...  2008-11-15  \n",
       "4  ['python', 'iterator', 'generator', 'yield', '...  2008-10-23  "
      ]
     },
     "execution_count": 6,
     "metadata": {},
     "output_type": "execute_result"
    }
   ],
   "source": [
    "query.head()"
   ]
  },
  {
   "cell_type": "markdown",
   "id": "70193a9f",
   "metadata": {},
   "source": [
    "**Viewing the data types of all columns**"
   ]
  },
  {
   "cell_type": "code",
   "execution_count": 7,
   "id": "0020a4f5",
   "metadata": {},
   "outputs": [
    {
     "name": "stdout",
     "output_type": "stream",
     "text": [
      "<class 'pandas.core.frame.DataFrame'>\n",
      "RangeIndex: 4975 entries, 0 to 4974\n",
      "Data columns (total 7 columns):\n",
      " #   Column        Non-Null Count  Dtype \n",
      "---  ------        --------------  ----- \n",
      " 0   ques_link     4975 non-null   object\n",
      " 1   vote_count    4975 non-null   int64 \n",
      " 2   answer_count  4975 non-null   int64 \n",
      " 3   ques_title    4975 non-null   object\n",
      " 4   ques_summ     4975 non-null   object\n",
      " 5   keywords      4975 non-null   object\n",
      " 6   date          4975 non-null   object\n",
      "dtypes: int64(2), object(5)\n",
      "memory usage: 272.2+ KB\n"
     ]
    }
   ],
   "source": [
    "query.info()"
   ]
  },
  {
   "cell_type": "markdown",
   "id": "30681ba5",
   "metadata": {},
   "source": [
    "**Changing the data type of date to datetime**"
   ]
  },
  {
   "cell_type": "code",
   "execution_count": 8,
   "id": "8cd0b8ce",
   "metadata": {},
   "outputs": [],
   "source": [
    "query['date']=query['date'].astype('datetime64')"
   ]
  },
  {
   "cell_type": "markdown",
   "id": "ac1e098d",
   "metadata": {},
   "source": [
    "**Viewing the updated data type**"
   ]
  },
  {
   "cell_type": "code",
   "execution_count": 9,
   "id": "22d6f717",
   "metadata": {},
   "outputs": [
    {
     "data": {
      "text/plain": [
       "ques_link               object\n",
       "vote_count               int64\n",
       "answer_count             int64\n",
       "ques_title              object\n",
       "ques_summ               object\n",
       "keywords                object\n",
       "date            datetime64[ns]\n",
       "dtype: object"
      ]
     },
     "execution_count": 9,
     "metadata": {},
     "output_type": "execute_result"
    }
   ],
   "source": [
    "query.dtypes"
   ]
  },
  {
   "cell_type": "markdown",
   "id": "878e0e72",
   "metadata": {},
   "source": [
    "**Number of questions asked in each year**"
   ]
  },
  {
   "cell_type": "code",
   "execution_count": 10,
   "id": "0652f4e5",
   "metadata": {},
   "outputs": [
    {
     "data": {
      "text/plain": [
       "2009    1119\n",
       "2010    1052\n",
       "2011     721\n",
       "2008     698\n",
       "2012     538\n",
       "2013     372\n",
       "2014     189\n",
       "2015     126\n",
       "2016      88\n",
       "2017      38\n",
       "2018      21\n",
       "2019       8\n",
       "2020       3\n",
       "2021       2\n",
       "Name: date, dtype: int64"
      ]
     },
     "execution_count": 10,
     "metadata": {},
     "output_type": "execute_result"
    }
   ],
   "source": [
    "pd.DatetimeIndex(query['date']).year.value_counts()"
   ]
  },
  {
   "cell_type": "markdown",
   "id": "fb3aece2",
   "metadata": {},
   "source": [
    "**Countplot for questions asked each year**"
   ]
  },
  {
   "cell_type": "code",
   "execution_count": 11,
   "id": "1890d048",
   "metadata": {},
   "outputs": [
    {
     "data": {
      "image/png": "[encoded data removed]",
      "text/plain": [
       "<Figure size 720x504 with 1 Axes>"
      ]
     },
     "metadata": {
      "needs_background": "light"
     },
     "output_type": "display_data"
    }
   ],
   "source": [
    "plt.figure(figsize=(10,7))\n",
    "sns.countplot(x=pd.DatetimeIndex(query['date']).year,palette='bright')\n",
    "plt.show()"
   ]
  },
  {
   "cell_type": "markdown",
   "id": "d8a88d58",
   "metadata": {},
   "source": [
    "**Number of rows with vote count greater than 3000**"
   ]
  },
  {
   "cell_type": "code",
   "execution_count": 12,
   "id": "5cb129bf",
   "metadata": {},
   "outputs": [
    {
     "data": {
      "text/plain": [
       "204"
      ]
     },
     "execution_count": 12,
     "metadata": {},
     "output_type": "execute_result"
    }
   ],
   "source": [
    "len(query[query['vote_count'] > 3000])"
   ]
  },
  {
   "cell_type": "markdown",
   "id": "221fbf77",
   "metadata": {},
   "source": [
    "**Top 5 questions with highest \"vote_count\"**"
   ]
  },
  {
   "cell_type": "code",
   "execution_count": 13,
   "id": "e0bd033c",
   "metadata": {},
   "outputs": [
    {
     "data": {
      "text/html": [
       "<div>\n",
       "<style scoped>\n",
       "    .dataframe tbody tr th:only-of-type {\n",
       "        vertical-align: middle;\n",
       "    }\n",
       "\n",
       "    .dataframe tbody tr th {\n",
       "        vertical-align: top;\n",
       "    }\n",
       "\n",
       "    .dataframe thead th {\n",
       "        text-align: right;\n",
       "    }\n",
       "</style>\n",
       "<table border=\"1\" class=\"dataframe\">\n",
       "  <thead>\n",
       "    <tr style=\"text-align: right;\">\n",
       "      <th></th>\n",
       "      <th>ques_link</th>\n",
       "      <th>vote_count</th>\n",
       "      <th>answer_count</th>\n",
       "      <th>ques_title</th>\n",
       "      <th>ques_summ</th>\n",
       "      <th>keywords</th>\n",
       "      <th>date</th>\n",
       "    </tr>\n",
       "  </thead>\n",
       "  <tbody>\n",
       "    <tr>\n",
       "      <th>1562</th>\n",
       "      <td>\"/questions/1995113/strangest-language-feature\"</td>\n",
       "      <td>973</td>\n",
       "      <td>320</td>\n",
       "      <td>Strangest language feature</td>\n",
       "      <td>What is, in your opinion, the most surprising,...</td>\n",
       "      <td>['language-agnostic', 'programming-languages']</td>\n",
       "      <td>2010-06-30</td>\n",
       "    </tr>\n",
       "    <tr>\n",
       "      <th>793</th>\n",
       "      <td>\"/questions/9033/hidden-features-of-c\"</td>\n",
       "      <td>1473</td>\n",
       "      <td>296</td>\n",
       "      <td>Hidden Features of C#? [closed]</td>\n",
       "      <td>This came to my mind after I learned the follo...</td>\n",
       "      <td>['c#', 'hidden-features']</td>\n",
       "      <td>2010-06-30</td>\n",
       "    </tr>\n",
       "    <tr>\n",
       "      <th>826</th>\n",
       "      <td>\"/questions/1711/what-is-the-single-most-influ...</td>\n",
       "      <td>1438</td>\n",
       "      <td>214</td>\n",
       "      <td>What is the single most influential book every...</td>\n",
       "      <td>If you could go back in time and tell yourself...</td>\n",
       "      <td>['resources']</td>\n",
       "      <td>2010-06-30</td>\n",
       "    </tr>\n",
       "    <tr>\n",
       "      <th>838</th>\n",
       "      <td>\"/questions/101268/hidden-features-of-python\"</td>\n",
       "      <td>1417</td>\n",
       "      <td>191</td>\n",
       "      <td>Hidden features of Python [closed]</td>\n",
       "      <td>What are the lesser-known but useful features ...</td>\n",
       "      <td>['python', 'hidden-features']</td>\n",
       "      <td>2010-06-30</td>\n",
       "    </tr>\n",
       "    <tr>\n",
       "      <th>2024</th>\n",
       "      <td>\"/questions/84556/whats-your-favorite-programm...</td>\n",
       "      <td>836</td>\n",
       "      <td>135</td>\n",
       "      <td>What's your favorite \"programmer\" cartoon?</td>\n",
       "      <td>Personally I like this one:\\r\\r\\nP.S. Do not h...</td>\n",
       "      <td>['language-agnostic']</td>\n",
       "      <td>2010-06-30</td>\n",
       "    </tr>\n",
       "  </tbody>\n",
       "</table>\n",
       "</div>"
      ],
      "text/plain": [
       "                                              ques_link  vote_count  \\\n",
       "1562    \"/questions/1995113/strangest-language-feature\"         973   \n",
       "793              \"/questions/9033/hidden-features-of-c\"        1473   \n",
       "826   \"/questions/1711/what-is-the-single-most-influ...        1438   \n",
       "838       \"/questions/101268/hidden-features-of-python\"        1417   \n",
       "2024  \"/questions/84556/whats-your-favorite-programm...         836   \n",
       "\n",
       "      answer_count                                         ques_title  \\\n",
       "1562           320                         Strangest language feature   \n",
       "793            296                    Hidden Features of C#? [closed]   \n",
       "826            214  What is the single most influential book every...   \n",
       "838            191                 Hidden features of Python [closed]   \n",
       "2024           135         What's your favorite \"programmer\" cartoon?   \n",
       "\n",
       "                                              ques_summ  \\\n",
       "1562  What is, in your opinion, the most surprising,...   \n",
       "793   This came to my mind after I learned the follo...   \n",
       "826   If you could go back in time and tell yourself...   \n",
       "838   What are the lesser-known but useful features ...   \n",
       "2024  Personally I like this one:\\r\\r\\nP.S. Do not h...   \n",
       "\n",
       "                                            keywords       date  \n",
       "1562  ['language-agnostic', 'programming-languages'] 2010-06-30  \n",
       "793                        ['c#', 'hidden-features'] 2010-06-30  \n",
       "826                                    ['resources'] 2010-06-30  \n",
       "838                    ['python', 'hidden-features'] 2010-06-30  \n",
       "2024                           ['language-agnostic'] 2010-06-30  "
      ]
     },
     "execution_count": 13,
     "metadata": {},
     "output_type": "execute_result"
    }
   ],
   "source": [
    "query.sort_values('answer_count',ascending = False).head()"
   ]
  },
  {
   "cell_type": "markdown",
   "id": "ebd14a52",
   "metadata": {},
   "source": [
    "**plotting \"vote_count\" vs \"answer_count\"**"
   ]
  },
  {
   "cell_type": "code",
   "execution_count": 20,
   "id": "ab34c05a",
   "metadata": {},
   "outputs": [
    {
     "data": {
      "image/png": "[encoded data removed]",
      "text/plain": [
       "<Figure size 720x288 with 1 Axes>"
      ]
     },
     "metadata": {
      "needs_background": "light"
     },
     "output_type": "display_data"
    }
   ],
   "source": [
    "plt.figure(figsize=(10,4))\n",
    "sns.lineplot(x='answer_count',y='vote_count',data=query)\n",
    "plt.show()"
   ]
  },
  {
   "cell_type": "markdown",
   "id": "d02ae5f8",
   "metadata": {},
   "source": []
  },
  {
   "cell_type": "code",
   "execution_count": 32,
   "id": "d0dce273",
   "metadata": {},
   "outputs": [],
   "source": [
    "python = len(query[query['keywords'].str.contains('python')])\n",
    "git = len(query[query['keywords'].str.contains('git')])\n",
    "java = len(query[query['keywords'].str.contains('java')])\n",
    "arrays = len(query[query['keywords'].str.contains('arrays')])"
   ]
  },
  {
   "cell_type": "code",
   "execution_count": 41,
   "id": "512a2ba1",
   "metadata": {},
   "outputs": [],
   "source": []
  },
  {
   "cell_type": "code",
   "execution_count": 53,
   "id": "ce23a6a6",
   "metadata": {},
   "outputs": [],
   "source": [
    "\n",
    "    "
   ]
  },
  {
   "cell_type": "code",
   "execution_count": null,
   "id": "20b965b1",
   "metadata": {},
   "outputs": [],
   "source": []
  },
  {
   "cell_type": "code",
   "execution_count": 51,
   "id": "84506c2d",
   "metadata": {},
   "outputs": [],
   "source": []
  },
  {
   "cell_type": "code",
   "execution_count": null,
   "id": "e0fdb409",
   "metadata": {},
   "outputs": [],
   "source": []
  },
  {
   "cell_type": "code",
   "execution_count": null,
   "id": "c35d0332",
   "metadata": {},
   "outputs": [],
   "source": []
  }
 ],
 "metadata": {
  "kernelspec": {
   "display_name": "Python 3 (ipykernel)",
   "language": "python",
   "name": "python3"
  },
  "language_info": {
   "codemirror_mode": {
    "name": "ipython",
    "version": 3
   },
   "file_extension": ".py",
   "mimetype": "text/x-python",
   "name": "python",
   "nbconvert_exporter": "python",
   "pygments_lexer": "ipython3",
   "version": "3.9.7"
  }
 },
 "nbformat": 4,
 "nbformat_minor": 5
}
