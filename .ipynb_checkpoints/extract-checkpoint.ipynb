{
 "cells": [
  {
   "cell_type": "code",
   "execution_count": 1,
   "id": "5fae0927",
   "metadata": {},
   "outputs": [],
   "source": [
    "from bs4 import BeautifulSoup\n",
    "import requests\n",
    "import csv\n",
    "import re\n",
    "import time\n",
    "import pandas as pd\n",
    "import urllib.request"
   ]
  },
  {
   "cell_type": "code",
   "execution_count": 2,
   "id": "c9a464f4",
   "metadata": {},
   "outputs": [],
   "source": [
    "URL = 'https://stackoverflow.com/questions'\n",
    "FILTER = 'Votes'\n",
    "PAGE_LIMIT = 100"
   ]
  },
  {
   "cell_type": "code",
   "execution_count": 3,
   "id": "11f1c31f",
   "metadata": {},
   "outputs": [],
   "source": [
    "def build_url(base_url=URL, query_filter=FILTER, page=1):\n",
    "    return f'{base_url}?tab={query_filter}&page={page}'"
   ]
  },
  {
   "cell_type": "code",
   "execution_count": 4,
   "id": "b1d0ca83",
   "metadata": {},
   "outputs": [],
   "source": [
    "# build_url()"
   ]
  },
  {
   "cell_type": "code",
   "execution_count": 9,
   "id": "1df273cf",
   "metadata": {},
   "outputs": [],
   "source": [
    "def scrape_page(page=1):\n",
    "    \"\"\"\n",
    "    Function to scrape a single page\n",
    "    \"\"\"\n",
    "    try:\n",
    "        \n",
    "        response = requests.get(build_url(page=page))\n",
    "        page_questions = []\n",
    "        ques_link = []\n",
    "        soup = BeautifulSoup(response.text, 'html.parser')\n",
    "        question_summaries = soup.find_all('div', class_='s-post-summary')\n",
    "\n",
    "        for summary in question_summaries:\n",
    "            ques_link = summary.find(class_='s-post-summary--content-title').find_all('a', class_='s-link')\n",
    "            vote_count = summary.find(class_='s-post-summary--stats-item-number').text\n",
    "            answer_count = summary.find(class_='has-answers').find(class_='s-post-summary--stats-item-number').text\n",
    "            ques_title = summary.find(class_='s-link').text\n",
    "            ques_summ = summary.find(class_='s-post-summary--content-excerpt').text\n",
    "            keywords = summary.find(class_='s-post-summary--meta-tags').text.split(' ')\n",
    "            date = summary.find(class_='s-user-card--time').text\n",
    "\n",
    "            page_questions.append({\n",
    "                'ques_link':ques_link,\n",
    "                'vote_count':vote_count,\n",
    "                'answer_count':answer_count,\n",
    "                'ques_title':ques_title,\n",
    "                'ques_summ':ques_summ,\n",
    "                'keywords':keywords,\n",
    "                'date':date\n",
    "            })\n",
    "    except AttributeError:\n",
    "        print(\"There's no item with that code\")\n",
    "        \n",
    "    return page_questions\n",
    "        "
   ]
  },
  {
   "cell_type": "code",
   "execution_count": 10,
   "id": "57b283de",
   "metadata": {},
   "outputs": [],
   "source": [
    "def scrape():\n",
    "    \"\"\"\n",
    "    Function to scrape to PAGE_LIMIT\n",
    "    \"\"\"\n",
    "    questions = []\n",
    "    for i in range(1, PAGE_LIMIT+1):\n",
    "        page_questions = scrape_page(i)\n",
    "#         time.sleep(1.2)\n",
    "        questions.extend(page_questions)\n",
    "    return questions"
   ]
  },
  {
   "cell_type": "code",
   "execution_count": 11,
   "id": "8a15dd08",
   "metadata": {},
   "outputs": [],
   "source": [
    "def extract_data():\n",
    "    data = scrape()\n",
    "    with open('dataset/extracted_data.csv', 'w', encoding='utf-8') as data_file:\n",
    "        fieldnames = ['ques_link' , 'vote_count', 'answer_count', 'ques_title', 'ques_summ', 'keywords', 'date']\n",
    "        data_writer = csv.DictWriter(data_file, fieldnames=fieldnames)\n",
    "        data_writer.writeheader()\n",
    "        for d in data:\n",
    "            data_writer.writerow(d)\n",
    "        print('Successfully Extracted')"
   ]
  },
  {
   "cell_type": "code",
   "execution_count": 12,
   "id": "ff9fa105",
   "metadata": {},
   "outputs": [
    {
     "name": "stdout",
     "output_type": "stream",
     "text": [
      "There's no item with that code\n",
      "Successfully Extracted\n"
     ]
    }
   ],
   "source": [
    "extract_data()"
   ]
  },
  {
   "cell_type": "code",
   "execution_count": 13,
   "id": "0ee6c5f3",
   "metadata": {},
   "outputs": [],
   "source": [
    "data = pd.read_csv('dataset/extracted_data.csv')"
   ]
  },
  {
   "cell_type": "code",
   "execution_count": 14,
   "id": "eb814176",
   "metadata": {},
   "outputs": [
    {
     "data": {
      "text/plain": [
       "(4975, 7)"
      ]
     },
     "execution_count": 14,
     "metadata": {},
     "output_type": "execute_result"
    }
   ],
   "source": [
    "data.shape"
   ]
  },
  {
   "cell_type": "code",
   "execution_count": 15,
   "id": "c0302fe6",
   "metadata": {},
   "outputs": [
    {
     "data": {
      "text/html": [
       "<div>\n",
       "<style scoped>\n",
       "    .dataframe tbody tr th:only-of-type {\n",
       "        vertical-align: middle;\n",
       "    }\n",
       "\n",
       "    .dataframe tbody tr th {\n",
       "        vertical-align: top;\n",
       "    }\n",
       "\n",
       "    .dataframe thead th {\n",
       "        text-align: right;\n",
       "    }\n",
       "</style>\n",
       "<table border=\"1\" class=\"dataframe\">\n",
       "  <thead>\n",
       "    <tr style=\"text-align: right;\">\n",
       "      <th></th>\n",
       "      <th>ques_link</th>\n",
       "      <th>vote_count</th>\n",
       "      <th>answer_count</th>\n",
       "      <th>ques_title</th>\n",
       "      <th>ques_summ</th>\n",
       "      <th>keywords</th>\n",
       "      <th>date</th>\n",
       "    </tr>\n",
       "  </thead>\n",
       "  <tbody>\n",
       "    <tr>\n",
       "      <th>0</th>\n",
       "      <td>[&lt;a class=\"s-link\" href=\"/questions/11227809/w...</td>\n",
       "      <td>26265</td>\n",
       "      <td>28</td>\n",
       "      <td>Why is processing a sorted array faster than p...</td>\n",
       "      <td>\\r\\r\\n                Here is a piece of C++ c...</td>\n",
       "      <td>['\\njava', 'c++', 'performance', 'cpu-architec...</td>\n",
       "      <td>asked Jun 27, 2012 at 13:51</td>\n",
       "    </tr>\n",
       "    <tr>\n",
       "      <th>1</th>\n",
       "      <td>[&lt;a class=\"s-link\" href=\"/questions/927358/how...</td>\n",
       "      <td>24035</td>\n",
       "      <td>98</td>\n",
       "      <td>How do I undo the most recent local commits in...</td>\n",
       "      <td>\\r\\r\\n                I accidentally committed...</td>\n",
       "      <td>['\\ngit', 'version-control', 'git-commit', 'un...</td>\n",
       "      <td>\\r\\n\\r\\r\\n                    89 revs, 60 user...</td>\n",
       "    </tr>\n",
       "    <tr>\n",
       "      <th>2</th>\n",
       "      <td>[&lt;a class=\"s-link\" href=\"/questions/2003505/ho...</td>\n",
       "      <td>18997</td>\n",
       "      <td>41</td>\n",
       "      <td>How do I delete a Git branch locally and remot...</td>\n",
       "      <td>\\r\\r\\n                I want to delete a branc...</td>\n",
       "      <td>['\\ngit', 'version-control', 'git-branch', 'gi...</td>\n",
       "      <td>asked Jan 5, 2010 at 1:12</td>\n",
       "    </tr>\n",
       "    <tr>\n",
       "      <th>3</th>\n",
       "      <td>[&lt;a class=\"s-link\" href=\"/questions/292357/wha...</td>\n",
       "      <td>13069</td>\n",
       "      <td>38</td>\n",
       "      <td>What is the difference between 'git pull' and ...</td>\n",
       "      <td>\\r\\r\\n                What are the differences...</td>\n",
       "      <td>['\\ngit', 'version-control', 'git-pull', 'git-...</td>\n",
       "      <td>asked Nov 15, 2008 at 9:51</td>\n",
       "    </tr>\n",
       "    <tr>\n",
       "      <th>4</th>\n",
       "      <td>[&lt;a class=\"s-link\" href=\"/questions/231767/wha...</td>\n",
       "      <td>11895</td>\n",
       "      <td>47</td>\n",
       "      <td>What does the \"yield\" keyword do?</td>\n",
       "      <td>\\r\\r\\n                What is the use of the y...</td>\n",
       "      <td>['\\npython', 'iterator', 'generator', 'yield',...</td>\n",
       "      <td>asked Oct 23, 2008 at 22:21</td>\n",
       "    </tr>\n",
       "  </tbody>\n",
       "</table>\n",
       "</div>"
      ],
      "text/plain": [
       "                                           ques_link  vote_count  \\\n",
       "0  [<a class=\"s-link\" href=\"/questions/11227809/w...       26265   \n",
       "1  [<a class=\"s-link\" href=\"/questions/927358/how...       24035   \n",
       "2  [<a class=\"s-link\" href=\"/questions/2003505/ho...       18997   \n",
       "3  [<a class=\"s-link\" href=\"/questions/292357/wha...       13069   \n",
       "4  [<a class=\"s-link\" href=\"/questions/231767/wha...       11895   \n",
       "\n",
       "   answer_count                                         ques_title  \\\n",
       "0            28  Why is processing a sorted array faster than p...   \n",
       "1            98  How do I undo the most recent local commits in...   \n",
       "2            41  How do I delete a Git branch locally and remot...   \n",
       "3            38  What is the difference between 'git pull' and ...   \n",
       "4            47                  What does the \"yield\" keyword do?   \n",
       "\n",
       "                                           ques_summ  \\\n",
       "0  \\r\\r\\n                Here is a piece of C++ c...   \n",
       "1  \\r\\r\\n                I accidentally committed...   \n",
       "2  \\r\\r\\n                I want to delete a branc...   \n",
       "3  \\r\\r\\n                What are the differences...   \n",
       "4  \\r\\r\\n                What is the use of the y...   \n",
       "\n",
       "                                            keywords  \\\n",
       "0  ['\\njava', 'c++', 'performance', 'cpu-architec...   \n",
       "1  ['\\ngit', 'version-control', 'git-commit', 'un...   \n",
       "2  ['\\ngit', 'version-control', 'git-branch', 'gi...   \n",
       "3  ['\\ngit', 'version-control', 'git-pull', 'git-...   \n",
       "4  ['\\npython', 'iterator', 'generator', 'yield',...   \n",
       "\n",
       "                                                date  \n",
       "0                        asked Jun 27, 2012 at 13:51  \n",
       "1  \\r\\n\\r\\r\\n                    89 revs, 60 user...  \n",
       "2                          asked Jan 5, 2010 at 1:12  \n",
       "3                         asked Nov 15, 2008 at 9:51  \n",
       "4                        asked Oct 23, 2008 at 22:21  "
      ]
     },
     "execution_count": 15,
     "metadata": {},
     "output_type": "execute_result"
    }
   ],
   "source": [
    "data.head()"
   ]
  },
  {
   "cell_type": "code",
   "execution_count": 16,
   "id": "09fcf259",
   "metadata": {},
   "outputs": [
    {
     "data": {
      "text/html": [
       "<div>\n",
       "<style scoped>\n",
       "    .dataframe tbody tr th:only-of-type {\n",
       "        vertical-align: middle;\n",
       "    }\n",
       "\n",
       "    .dataframe tbody tr th {\n",
       "        vertical-align: top;\n",
       "    }\n",
       "\n",
       "    .dataframe thead th {\n",
       "        text-align: right;\n",
       "    }\n",
       "</style>\n",
       "<table border=\"1\" class=\"dataframe\">\n",
       "  <thead>\n",
       "    <tr style=\"text-align: right;\">\n",
       "      <th></th>\n",
       "      <th>ques_link</th>\n",
       "      <th>vote_count</th>\n",
       "      <th>answer_count</th>\n",
       "      <th>ques_title</th>\n",
       "      <th>ques_summ</th>\n",
       "      <th>keywords</th>\n",
       "      <th>date</th>\n",
       "    </tr>\n",
       "  </thead>\n",
       "  <tbody>\n",
       "    <tr>\n",
       "      <th>4970</th>\n",
       "      <td>[&lt;a class=\"s-link\" href=\"/questions/3639342/wh...</td>\n",
       "      <td>488</td>\n",
       "      <td>7</td>\n",
       "      <td>What's the difference between \"git reset\" and ...</td>\n",
       "      <td>\\r\\r\\n                I've always thought of g...</td>\n",
       "      <td>['\\ngit', 'git-checkout', 'git-reset\\n']</td>\n",
       "      <td>asked Sep 3, 2010 at 20:21</td>\n",
       "    </tr>\n",
       "    <tr>\n",
       "      <th>4971</th>\n",
       "      <td>[&lt;a class=\"s-link\" href=\"/questions/5306240/io...</td>\n",
       "      <td>487</td>\n",
       "      <td>38</td>\n",
       "      <td>iOS - Dismiss keyboard when touching outside o...</td>\n",
       "      <td>\\r\\r\\n                I'm wondering how to mak...</td>\n",
       "      <td>['\\nios', 'cocoa-touch', 'uitextfield', 'uikit...</td>\n",
       "      <td>asked Mar 15, 2011 at 0:31</td>\n",
       "    </tr>\n",
       "    <tr>\n",
       "      <th>4972</th>\n",
       "      <td>[&lt;a class=\"s-link\" href=\"/questions/454854/no-...</td>\n",
       "      <td>487</td>\n",
       "      <td>30</td>\n",
       "      <td>No module named MySQLdb</td>\n",
       "      <td>\\r\\r\\n                I am using Python versio...</td>\n",
       "      <td>['\\npython', 'django', 'python-2.x\\n']</td>\n",
       "      <td>asked Jan 18, 2009 at 9:13</td>\n",
       "    </tr>\n",
       "    <tr>\n",
       "      <th>4973</th>\n",
       "      <td>[&lt;a class=\"s-link\" href=\"/questions/4033723/ho...</td>\n",
       "      <td>487</td>\n",
       "      <td>10</td>\n",
       "      <td>How do I access command line arguments?</td>\n",
       "      <td>\\r\\r\\n                I use python to create m...</td>\n",
       "      <td>['\\npython', 'command-line', 'command-line-arg...</td>\n",
       "      <td>asked Oct 27, 2010 at 13:24</td>\n",
       "    </tr>\n",
       "    <tr>\n",
       "      <th>4974</th>\n",
       "      <td>[&lt;a class=\"s-link\" href=\"/questions/12787781/t...</td>\n",
       "      <td>487</td>\n",
       "      <td>14</td>\n",
       "      <td>Type definition in object literal in TypeScript</td>\n",
       "      <td>\\r\\r\\n                In TypeScript classes it...</td>\n",
       "      <td>['\\ntypescript\\n']</td>\n",
       "      <td>asked Oct 8, 2012 at 18:58</td>\n",
       "    </tr>\n",
       "  </tbody>\n",
       "</table>\n",
       "</div>"
      ],
      "text/plain": [
       "                                              ques_link  vote_count  \\\n",
       "4970  [<a class=\"s-link\" href=\"/questions/3639342/wh...         488   \n",
       "4971  [<a class=\"s-link\" href=\"/questions/5306240/io...         487   \n",
       "4972  [<a class=\"s-link\" href=\"/questions/454854/no-...         487   \n",
       "4973  [<a class=\"s-link\" href=\"/questions/4033723/ho...         487   \n",
       "4974  [<a class=\"s-link\" href=\"/questions/12787781/t...         487   \n",
       "\n",
       "      answer_count                                         ques_title  \\\n",
       "4970             7  What's the difference between \"git reset\" and ...   \n",
       "4971            38  iOS - Dismiss keyboard when touching outside o...   \n",
       "4972            30                            No module named MySQLdb   \n",
       "4973            10            How do I access command line arguments?   \n",
       "4974            14    Type definition in object literal in TypeScript   \n",
       "\n",
       "                                              ques_summ  \\\n",
       "4970  \\r\\r\\n                I've always thought of g...   \n",
       "4971  \\r\\r\\n                I'm wondering how to mak...   \n",
       "4972  \\r\\r\\n                I am using Python versio...   \n",
       "4973  \\r\\r\\n                I use python to create m...   \n",
       "4974  \\r\\r\\n                In TypeScript classes it...   \n",
       "\n",
       "                                               keywords  \\\n",
       "4970           ['\\ngit', 'git-checkout', 'git-reset\\n']   \n",
       "4971  ['\\nios', 'cocoa-touch', 'uitextfield', 'uikit...   \n",
       "4972             ['\\npython', 'django', 'python-2.x\\n']   \n",
       "4973  ['\\npython', 'command-line', 'command-line-arg...   \n",
       "4974                                 ['\\ntypescript\\n']   \n",
       "\n",
       "                             date  \n",
       "4970   asked Sep 3, 2010 at 20:21  \n",
       "4971   asked Mar 15, 2011 at 0:31  \n",
       "4972   asked Jan 18, 2009 at 9:13  \n",
       "4973  asked Oct 27, 2010 at 13:24  \n",
       "4974   asked Oct 8, 2012 at 18:58  "
      ]
     },
     "execution_count": 16,
     "metadata": {},
     "output_type": "execute_result"
    }
   ],
   "source": [
    "data.tail()"
   ]
  },
  {
   "cell_type": "code",
   "execution_count": null,
   "id": "1f349c8f",
   "metadata": {},
   "outputs": [],
   "source": []
  }
 ],
 "metadata": {
  "kernelspec": {
   "display_name": "Python 3 (ipykernel)",
   "language": "python",
   "name": "python3"
  },
  "language_info": {
   "codemirror_mode": {
    "name": "ipython",
    "version": 3
   },
   "file_extension": ".py",
   "mimetype": "text/x-python",
   "name": "python",
   "nbconvert_exporter": "python",
   "pygments_lexer": "ipython3",
   "version": "3.9.7"
  }
 },
 "nbformat": 4,
 "nbformat_minor": 5
}
