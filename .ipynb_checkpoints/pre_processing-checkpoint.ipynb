{
 "cells": [
  {
   "cell_type": "markdown",
   "id": "793f989a",
   "metadata": {},
   "source": [
    "## Data Study\n",
    "**Importing Relevant Libraries**"
   ]
  },
  {
   "cell_type": "code",
   "execution_count": 543,
   "id": "8baa131a",
   "metadata": {},
   "outputs": [],
   "source": [
    "import pandas as pd\n",
    "import random"
   ]
  },
  {
   "cell_type": "markdown",
   "id": "a07d8261",
   "metadata": {},
   "source": [
    "**Reads a comma-separated values (csv) file into DataFrame**"
   ]
  },
  {
   "cell_type": "code",
   "execution_count": 487,
   "id": "8fa8eeaf",
   "metadata": {},
   "outputs": [],
   "source": [
    "query = pd.read_csv('dataset/extracted_data.csv')"
   ]
  },
  {
   "cell_type": "markdown",
   "id": "9b8c6df4",
   "metadata": {},
   "source": [
    "**This function is used to view the first 5 Queries in our dataset**"
   ]
  },
  {
   "cell_type": "code",
   "execution_count": 488,
   "id": "f9fd35f3",
   "metadata": {},
   "outputs": [
    {
     "data": {
      "text/html": [
       "<div>\n",
       "<style scoped>\n",
       "    .dataframe tbody tr th:only-of-type {\n",
       "        vertical-align: middle;\n",
       "    }\n",
       "\n",
       "    .dataframe tbody tr th {\n",
       "        vertical-align: top;\n",
       "    }\n",
       "\n",
       "    .dataframe thead th {\n",
       "        text-align: right;\n",
       "    }\n",
       "</style>\n",
       "<table border=\"1\" class=\"dataframe\">\n",
       "  <thead>\n",
       "    <tr style=\"text-align: right;\">\n",
       "      <th></th>\n",
       "      <th>ques_link</th>\n",
       "      <th>vote_count</th>\n",
       "      <th>answer_count</th>\n",
       "      <th>ques_title</th>\n",
       "      <th>ques_summ</th>\n",
       "      <th>keywords</th>\n",
       "      <th>date</th>\n",
       "    </tr>\n",
       "  </thead>\n",
       "  <tbody>\n",
       "    <tr>\n",
       "      <th>0</th>\n",
       "      <td>[&lt;a class=\"s-link\" href=\"/questions/11227809/w...</td>\n",
       "      <td>26265</td>\n",
       "      <td>28</td>\n",
       "      <td>Why is processing a sorted array faster than p...</td>\n",
       "      <td>\\r\\r\\n                Here is a piece of C++ c...</td>\n",
       "      <td>['\\njava', 'c++', 'performance', 'cpu-architec...</td>\n",
       "      <td>asked Jun 27, 2012 at 13:51</td>\n",
       "    </tr>\n",
       "    <tr>\n",
       "      <th>1</th>\n",
       "      <td>[&lt;a class=\"s-link\" href=\"/questions/927358/how...</td>\n",
       "      <td>24035</td>\n",
       "      <td>98</td>\n",
       "      <td>How do I undo the most recent local commits in...</td>\n",
       "      <td>\\r\\r\\n                I accidentally committed...</td>\n",
       "      <td>['\\ngit', 'version-control', 'git-commit', 'un...</td>\n",
       "      <td>\\r\\n\\r\\r\\n                    89 revs, 60 user...</td>\n",
       "    </tr>\n",
       "    <tr>\n",
       "      <th>2</th>\n",
       "      <td>[&lt;a class=\"s-link\" href=\"/questions/2003505/ho...</td>\n",
       "      <td>18997</td>\n",
       "      <td>41</td>\n",
       "      <td>How do I delete a Git branch locally and remot...</td>\n",
       "      <td>\\r\\r\\n                I want to delete a branc...</td>\n",
       "      <td>['\\ngit', 'version-control', 'git-branch', 'gi...</td>\n",
       "      <td>asked Jan 5, 2010 at 1:12</td>\n",
       "    </tr>\n",
       "    <tr>\n",
       "      <th>3</th>\n",
       "      <td>[&lt;a class=\"s-link\" href=\"/questions/292357/wha...</td>\n",
       "      <td>13069</td>\n",
       "      <td>38</td>\n",
       "      <td>What is the difference between 'git pull' and ...</td>\n",
       "      <td>\\r\\r\\n                What are the differences...</td>\n",
       "      <td>['\\ngit', 'version-control', 'git-pull', 'git-...</td>\n",
       "      <td>asked Nov 15, 2008 at 9:51</td>\n",
       "    </tr>\n",
       "    <tr>\n",
       "      <th>4</th>\n",
       "      <td>[&lt;a class=\"s-link\" href=\"/questions/231767/wha...</td>\n",
       "      <td>11895</td>\n",
       "      <td>47</td>\n",
       "      <td>What does the \"yield\" keyword do?</td>\n",
       "      <td>\\r\\r\\n                What is the use of the y...</td>\n",
       "      <td>['\\npython', 'iterator', 'generator', 'yield',...</td>\n",
       "      <td>asked Oct 23, 2008 at 22:21</td>\n",
       "    </tr>\n",
       "  </tbody>\n",
       "</table>\n",
       "</div>"
      ],
      "text/plain": [
       "                                           ques_link  vote_count  \\\n",
       "0  [<a class=\"s-link\" href=\"/questions/11227809/w...       26265   \n",
       "1  [<a class=\"s-link\" href=\"/questions/927358/how...       24035   \n",
       "2  [<a class=\"s-link\" href=\"/questions/2003505/ho...       18997   \n",
       "3  [<a class=\"s-link\" href=\"/questions/292357/wha...       13069   \n",
       "4  [<a class=\"s-link\" href=\"/questions/231767/wha...       11895   \n",
       "\n",
       "   answer_count                                         ques_title  \\\n",
       "0            28  Why is processing a sorted array faster than p...   \n",
       "1            98  How do I undo the most recent local commits in...   \n",
       "2            41  How do I delete a Git branch locally and remot...   \n",
       "3            38  What is the difference between 'git pull' and ...   \n",
       "4            47                  What does the \"yield\" keyword do?   \n",
       "\n",
       "                                           ques_summ  \\\n",
       "0  \\r\\r\\n                Here is a piece of C++ c...   \n",
       "1  \\r\\r\\n                I accidentally committed...   \n",
       "2  \\r\\r\\n                I want to delete a branc...   \n",
       "3  \\r\\r\\n                What are the differences...   \n",
       "4  \\r\\r\\n                What is the use of the y...   \n",
       "\n",
       "                                            keywords  \\\n",
       "0  ['\\njava', 'c++', 'performance', 'cpu-architec...   \n",
       "1  ['\\ngit', 'version-control', 'git-commit', 'un...   \n",
       "2  ['\\ngit', 'version-control', 'git-branch', 'gi...   \n",
       "3  ['\\ngit', 'version-control', 'git-pull', 'git-...   \n",
       "4  ['\\npython', 'iterator', 'generator', 'yield',...   \n",
       "\n",
       "                                                date  \n",
       "0                        asked Jun 27, 2012 at 13:51  \n",
       "1  \\r\\n\\r\\r\\n                    89 revs, 60 user...  \n",
       "2                          asked Jan 5, 2010 at 1:12  \n",
       "3                         asked Nov 15, 2008 at 9:51  \n",
       "4                        asked Oct 23, 2008 at 22:21  "
      ]
     },
     "execution_count": 488,
     "metadata": {},
     "output_type": "execute_result"
    }
   ],
   "source": [
    "query.head()"
   ]
  },
  {
   "cell_type": "markdown",
   "id": "3aa827ba",
   "metadata": {},
   "source": [
    "**This function is used to view the shape (rows and columns) in our dataset**"
   ]
  },
  {
   "cell_type": "code",
   "execution_count": 489,
   "id": "6d395dc6",
   "metadata": {},
   "outputs": [
    {
     "data": {
      "text/plain": [
       "(4975, 7)"
      ]
     },
     "execution_count": 489,
     "metadata": {},
     "output_type": "execute_result"
    }
   ],
   "source": [
    "query.shape"
   ]
  },
  {
   "cell_type": "markdown",
   "id": "731c1135",
   "metadata": {},
   "source": [
    "**This functiion is used to view the last 5 queries of our dataset**"
   ]
  },
  {
   "cell_type": "code",
   "execution_count": 490,
   "id": "fc088283",
   "metadata": {},
   "outputs": [
    {
     "data": {
      "text/html": [
       "<div>\n",
       "<style scoped>\n",
       "    .dataframe tbody tr th:only-of-type {\n",
       "        vertical-align: middle;\n",
       "    }\n",
       "\n",
       "    .dataframe tbody tr th {\n",
       "        vertical-align: top;\n",
       "    }\n",
       "\n",
       "    .dataframe thead th {\n",
       "        text-align: right;\n",
       "    }\n",
       "</style>\n",
       "<table border=\"1\" class=\"dataframe\">\n",
       "  <thead>\n",
       "    <tr style=\"text-align: right;\">\n",
       "      <th></th>\n",
       "      <th>ques_link</th>\n",
       "      <th>vote_count</th>\n",
       "      <th>answer_count</th>\n",
       "      <th>ques_title</th>\n",
       "      <th>ques_summ</th>\n",
       "      <th>keywords</th>\n",
       "      <th>date</th>\n",
       "    </tr>\n",
       "  </thead>\n",
       "  <tbody>\n",
       "    <tr>\n",
       "      <th>4970</th>\n",
       "      <td>[&lt;a class=\"s-link\" href=\"/questions/3639342/wh...</td>\n",
       "      <td>488</td>\n",
       "      <td>7</td>\n",
       "      <td>What's the difference between \"git reset\" and ...</td>\n",
       "      <td>\\r\\r\\n                I've always thought of g...</td>\n",
       "      <td>['\\ngit', 'git-checkout', 'git-reset\\n']</td>\n",
       "      <td>asked Sep 3, 2010 at 20:21</td>\n",
       "    </tr>\n",
       "    <tr>\n",
       "      <th>4971</th>\n",
       "      <td>[&lt;a class=\"s-link\" href=\"/questions/5306240/io...</td>\n",
       "      <td>487</td>\n",
       "      <td>38</td>\n",
       "      <td>iOS - Dismiss keyboard when touching outside o...</td>\n",
       "      <td>\\r\\r\\n                I'm wondering how to mak...</td>\n",
       "      <td>['\\nios', 'cocoa-touch', 'uitextfield', 'uikit...</td>\n",
       "      <td>asked Mar 15, 2011 at 0:31</td>\n",
       "    </tr>\n",
       "    <tr>\n",
       "      <th>4972</th>\n",
       "      <td>[&lt;a class=\"s-link\" href=\"/questions/454854/no-...</td>\n",
       "      <td>487</td>\n",
       "      <td>30</td>\n",
       "      <td>No module named MySQLdb</td>\n",
       "      <td>\\r\\r\\n                I am using Python versio...</td>\n",
       "      <td>['\\npython', 'django', 'python-2.x\\n']</td>\n",
       "      <td>asked Jan 18, 2009 at 9:13</td>\n",
       "    </tr>\n",
       "    <tr>\n",
       "      <th>4973</th>\n",
       "      <td>[&lt;a class=\"s-link\" href=\"/questions/4033723/ho...</td>\n",
       "      <td>487</td>\n",
       "      <td>10</td>\n",
       "      <td>How do I access command line arguments?</td>\n",
       "      <td>\\r\\r\\n                I use python to create m...</td>\n",
       "      <td>['\\npython', 'command-line', 'command-line-arg...</td>\n",
       "      <td>asked Oct 27, 2010 at 13:24</td>\n",
       "    </tr>\n",
       "    <tr>\n",
       "      <th>4974</th>\n",
       "      <td>[&lt;a class=\"s-link\" href=\"/questions/12787781/t...</td>\n",
       "      <td>487</td>\n",
       "      <td>14</td>\n",
       "      <td>Type definition in object literal in TypeScript</td>\n",
       "      <td>\\r\\r\\n                In TypeScript classes it...</td>\n",
       "      <td>['\\ntypescript\\n']</td>\n",
       "      <td>asked Oct 8, 2012 at 18:58</td>\n",
       "    </tr>\n",
       "  </tbody>\n",
       "</table>\n",
       "</div>"
      ],
      "text/plain": [
       "                                              ques_link  vote_count  \\\n",
       "4970  [<a class=\"s-link\" href=\"/questions/3639342/wh...         488   \n",
       "4971  [<a class=\"s-link\" href=\"/questions/5306240/io...         487   \n",
       "4972  [<a class=\"s-link\" href=\"/questions/454854/no-...         487   \n",
       "4973  [<a class=\"s-link\" href=\"/questions/4033723/ho...         487   \n",
       "4974  [<a class=\"s-link\" href=\"/questions/12787781/t...         487   \n",
       "\n",
       "      answer_count                                         ques_title  \\\n",
       "4970             7  What's the difference between \"git reset\" and ...   \n",
       "4971            38  iOS - Dismiss keyboard when touching outside o...   \n",
       "4972            30                            No module named MySQLdb   \n",
       "4973            10            How do I access command line arguments?   \n",
       "4974            14    Type definition in object literal in TypeScript   \n",
       "\n",
       "                                              ques_summ  \\\n",
       "4970  \\r\\r\\n                I've always thought of g...   \n",
       "4971  \\r\\r\\n                I'm wondering how to mak...   \n",
       "4972  \\r\\r\\n                I am using Python versio...   \n",
       "4973  \\r\\r\\n                I use python to create m...   \n",
       "4974  \\r\\r\\n                In TypeScript classes it...   \n",
       "\n",
       "                                               keywords  \\\n",
       "4970           ['\\ngit', 'git-checkout', 'git-reset\\n']   \n",
       "4971  ['\\nios', 'cocoa-touch', 'uitextfield', 'uikit...   \n",
       "4972             ['\\npython', 'django', 'python-2.x\\n']   \n",
       "4973  ['\\npython', 'command-line', 'command-line-arg...   \n",
       "4974                                 ['\\ntypescript\\n']   \n",
       "\n",
       "                             date  \n",
       "4970   asked Sep 3, 2010 at 20:21  \n",
       "4971   asked Mar 15, 2011 at 0:31  \n",
       "4972   asked Jan 18, 2009 at 9:13  \n",
       "4973  asked Oct 27, 2010 at 13:24  \n",
       "4974   asked Oct 8, 2012 at 18:58  "
      ]
     },
     "execution_count": 490,
     "metadata": {},
     "output_type": "execute_result"
    }
   ],
   "source": [
    "query.tail()"
   ]
  },
  {
   "cell_type": "markdown",
   "id": "bd4bd97e",
   "metadata": {},
   "source": [
    "**This function enables us to view random entries from the dataset**"
   ]
  },
  {
   "cell_type": "code",
   "execution_count": 491,
   "id": "b25f9f25",
   "metadata": {},
   "outputs": [
    {
     "data": {
      "text/html": [
       "<div>\n",
       "<style scoped>\n",
       "    .dataframe tbody tr th:only-of-type {\n",
       "        vertical-align: middle;\n",
       "    }\n",
       "\n",
       "    .dataframe tbody tr th {\n",
       "        vertical-align: top;\n",
       "    }\n",
       "\n",
       "    .dataframe thead th {\n",
       "        text-align: right;\n",
       "    }\n",
       "</style>\n",
       "<table border=\"1\" class=\"dataframe\">\n",
       "  <thead>\n",
       "    <tr style=\"text-align: right;\">\n",
       "      <th></th>\n",
       "      <th>ques_link</th>\n",
       "      <th>vote_count</th>\n",
       "      <th>answer_count</th>\n",
       "      <th>ques_title</th>\n",
       "      <th>ques_summ</th>\n",
       "      <th>keywords</th>\n",
       "      <th>date</th>\n",
       "    </tr>\n",
       "  </thead>\n",
       "  <tbody>\n",
       "    <tr>\n",
       "      <th>238</th>\n",
       "      <td>[&lt;a class=\"s-link\" href=\"/questions/1825585/de...</td>\n",
       "      <td>2773</td>\n",
       "      <td>21</td>\n",
       "      <td>Determine installed PowerShell version</td>\n",
       "      <td>\\r\\r\\n                How can I determine what...</td>\n",
       "      <td>['\\npowershell', 'version\\n']</td>\n",
       "      <td>asked Dec 1, 2009 at 11:30</td>\n",
       "    </tr>\n",
       "    <tr>\n",
       "      <th>1298</th>\n",
       "      <td>[&lt;a class=\"s-link\" href=\"/questions/11875770/h...</td>\n",
       "      <td>1094</td>\n",
       "      <td>32</td>\n",
       "      <td>How to overcome \"datetime.datetime not JSON se...</td>\n",
       "      <td>\\r\\r\\n                I have a basic dict as f...</td>\n",
       "      <td>['\\npython', 'json\\n']</td>\n",
       "      <td>asked Aug 9, 2012 at 2:02</td>\n",
       "    </tr>\n",
       "    <tr>\n",
       "      <th>2995</th>\n",
       "      <td>[&lt;a class=\"s-link\" href=\"/questions/22489398/u...</td>\n",
       "      <td>661</td>\n",
       "      <td>26</td>\n",
       "      <td>Unsupported major.minor version 52.0 [duplicate]</td>\n",
       "      <td>\\r\\r\\n                Pictures:\\r\\r\\nCommand P...</td>\n",
       "      <td>['\\njava', 'applet', 'version', 'unsupported-c...</td>\n",
       "      <td>asked Mar 18, 2014 at 19:40</td>\n",
       "    </tr>\n",
       "  </tbody>\n",
       "</table>\n",
       "</div>"
      ],
      "text/plain": [
       "                                              ques_link  vote_count  \\\n",
       "238   [<a class=\"s-link\" href=\"/questions/1825585/de...        2773   \n",
       "1298  [<a class=\"s-link\" href=\"/questions/11875770/h...        1094   \n",
       "2995  [<a class=\"s-link\" href=\"/questions/22489398/u...         661   \n",
       "\n",
       "      answer_count                                         ques_title  \\\n",
       "238             21             Determine installed PowerShell version   \n",
       "1298            32  How to overcome \"datetime.datetime not JSON se...   \n",
       "2995            26   Unsupported major.minor version 52.0 [duplicate]   \n",
       "\n",
       "                                              ques_summ  \\\n",
       "238   \\r\\r\\n                How can I determine what...   \n",
       "1298  \\r\\r\\n                I have a basic dict as f...   \n",
       "2995  \\r\\r\\n                Pictures:\\r\\r\\nCommand P...   \n",
       "\n",
       "                                               keywords  \\\n",
       "238                       ['\\npowershell', 'version\\n']   \n",
       "1298                             ['\\npython', 'json\\n']   \n",
       "2995  ['\\njava', 'applet', 'version', 'unsupported-c...   \n",
       "\n",
       "                             date  \n",
       "238    asked Dec 1, 2009 at 11:30  \n",
       "1298    asked Aug 9, 2012 at 2:02  \n",
       "2995  asked Mar 18, 2014 at 19:40  "
      ]
     },
     "execution_count": 491,
     "metadata": {},
     "output_type": "execute_result"
    }
   ],
   "source": [
    "query.sample(n=3)"
   ]
  },
  {
   "cell_type": "markdown",
   "id": "2675a9d4",
   "metadata": {},
   "source": [
    "**This function is used to print a concise summary of a DataFrame**"
   ]
  },
  {
   "cell_type": "code",
   "execution_count": 492,
   "id": "617f648a",
   "metadata": {},
   "outputs": [
    {
     "name": "stdout",
     "output_type": "stream",
     "text": [
      "<class 'pandas.core.frame.DataFrame'>\n",
      "RangeIndex: 4975 entries, 0 to 4974\n",
      "Data columns (total 7 columns):\n",
      " #   Column        Non-Null Count  Dtype \n",
      "---  ------        --------------  ----- \n",
      " 0   ques_link     4975 non-null   object\n",
      " 1   vote_count    4975 non-null   int64 \n",
      " 2   answer_count  4975 non-null   int64 \n",
      " 3   ques_title    4975 non-null   object\n",
      " 4   ques_summ     4975 non-null   object\n",
      " 5   keywords      4975 non-null   object\n",
      " 6   date          4975 non-null   object\n",
      "dtypes: int64(2), object(5)\n",
      "memory usage: 272.2+ KB\n"
     ]
    }
   ],
   "source": [
    "query.info()"
   ]
  },
  {
   "cell_type": "markdown",
   "id": "cbe4b202",
   "metadata": {},
   "source": [
    "## Data Pre-Processing \n",
    "**Cleaning the \"ques_link\" column of dataframe**"
   ]
  },
  {
   "cell_type": "code",
   "execution_count": 526,
   "id": "f81d8d83",
   "metadata": {},
   "outputs": [],
   "source": [
    "## Splitting the data from 'href=' "
   ]
  },
  {
   "cell_type": "code",
   "execution_count": 532,
   "id": "fc276eec",
   "metadata": {},
   "outputs": [],
   "source": [
    "query[['temp', 'ques_link']] = query['ques_link'].str.split('href=',expand=True)"
   ]
  },
  {
   "cell_type": "code",
   "execution_count": null,
   "id": "ed9efd19",
   "metadata": {},
   "outputs": [],
   "source": [
    "## SPlitting the data from '>'"
   ]
  },
  {
   "cell_type": "code",
   "execution_count": 534,
   "id": "258fd511",
   "metadata": {},
   "outputs": [],
   "source": [
    "query[['ques_link', 'temp']] = query['ques_link'].str.split('>',n=1 ,expand = True)"
   ]
  },
  {
   "cell_type": "code",
   "execution_count": null,
   "id": "97a436de",
   "metadata": {},
   "outputs": [],
   "source": [
    "## Dropping the temporary variable"
   ]
  },
  {
   "cell_type": "code",
   "execution_count": 539,
   "id": "43ab8a88",
   "metadata": {},
   "outputs": [],
   "source": [
    "query.drop('temp',axis=1,inplace=True)"
   ]
  },
  {
   "cell_type": "code",
   "execution_count": null,
   "id": "efd8e820",
   "metadata": {},
   "outputs": [],
   "source": [
    "## Viewing the updated column "
   ]
  },
  {
   "cell_type": "code",
   "execution_count": 540,
   "id": "e18f5776",
   "metadata": {},
   "outputs": [
    {
     "data": {
      "text/html": [
       "<div>\n",
       "<style scoped>\n",
       "    .dataframe tbody tr th:only-of-type {\n",
       "        vertical-align: middle;\n",
       "    }\n",
       "\n",
       "    .dataframe tbody tr th {\n",
       "        vertical-align: top;\n",
       "    }\n",
       "\n",
       "    .dataframe thead th {\n",
       "        text-align: right;\n",
       "    }\n",
       "</style>\n",
       "<table border=\"1\" class=\"dataframe\">\n",
       "  <thead>\n",
       "    <tr style=\"text-align: right;\">\n",
       "      <th></th>\n",
       "      <th>ques_link</th>\n",
       "      <th>vote_count</th>\n",
       "      <th>answer_count</th>\n",
       "      <th>ques_title</th>\n",
       "      <th>ques_summ</th>\n",
       "      <th>keywords</th>\n",
       "      <th>date</th>\n",
       "    </tr>\n",
       "  </thead>\n",
       "  <tbody>\n",
       "    <tr>\n",
       "      <th>0</th>\n",
       "      <td>\"/questions/11227809/why-is-processing-a-sorte...</td>\n",
       "      <td>26265</td>\n",
       "      <td>28</td>\n",
       "      <td>Why is processing a sorted array faster than p...</td>\n",
       "      <td>Here is a piece of C++ code that shows some ve...</td>\n",
       "      <td>['java', 'c++', 'performance', 'cpu-architectu...</td>\n",
       "      <td>2012-06-27</td>\n",
       "    </tr>\n",
       "  </tbody>\n",
       "</table>\n",
       "</div>"
      ],
      "text/plain": [
       "                                           ques_link  vote_count  \\\n",
       "0  \"/questions/11227809/why-is-processing-a-sorte...       26265   \n",
       "\n",
       "   answer_count                                         ques_title  \\\n",
       "0            28  Why is processing a sorted array faster than p...   \n",
       "\n",
       "                                           ques_summ  \\\n",
       "0  Here is a piece of C++ code that shows some ve...   \n",
       "\n",
       "                                            keywords       date  \n",
       "0  ['java', 'c++', 'performance', 'cpu-architectu... 2012-06-27  "
      ]
     },
     "execution_count": 540,
     "metadata": {},
     "output_type": "execute_result"
    }
   ],
   "source": [
    "query.head(1)"
   ]
  },
  {
   "cell_type": "markdown",
   "id": "90fc69d2",
   "metadata": {},
   "source": [
    "**Dropping the temporary column created**"
   ]
  },
  {
   "cell_type": "code",
   "execution_count": 497,
   "id": "4eb2f965",
   "metadata": {},
   "outputs": [],
   "source": [
    "#query.drop('temp',axis=1, inplace=True)"
   ]
  },
  {
   "cell_type": "markdown",
   "id": "7fc6e99d",
   "metadata": {},
   "source": [
    "**Cleaning the \"ques_summ\"  column of dataframe**"
   ]
  },
  {
   "cell_type": "code",
   "execution_count": null,
   "id": "816b33f6",
   "metadata": {},
   "outputs": [],
   "source": [
    "## Removing unnecessary spaces and expressions from the column"
   ]
  },
  {
   "cell_type": "code",
   "execution_count": 498,
   "id": "68e91e69",
   "metadata": {},
   "outputs": [],
   "source": [
    "query['ques_summ'] = query['ques_summ'].str.strip()"
   ]
  },
  {
   "cell_type": "code",
   "execution_count": null,
   "id": "373ef4b4",
   "metadata": {},
   "outputs": [],
   "source": [
    "## replacing expressions like '\\r\\n' from the column "
   ]
  },
  {
   "cell_type": "code",
   "execution_count": 499,
   "id": "34ce2453",
   "metadata": {},
   "outputs": [],
   "source": [
    "query['ques_summ'] = query['ques_summ'].replace('\\r\\n', '')"
   ]
  },
  {
   "cell_type": "code",
   "execution_count": 500,
   "id": "15754521",
   "metadata": {},
   "outputs": [
    {
     "data": {
      "text/html": [
       "<div>\n",
       "<style scoped>\n",
       "    .dataframe tbody tr th:only-of-type {\n",
       "        vertical-align: middle;\n",
       "    }\n",
       "\n",
       "    .dataframe tbody tr th {\n",
       "        vertical-align: top;\n",
       "    }\n",
       "\n",
       "    .dataframe thead th {\n",
       "        text-align: right;\n",
       "    }\n",
       "</style>\n",
       "<table border=\"1\" class=\"dataframe\">\n",
       "  <thead>\n",
       "    <tr style=\"text-align: right;\">\n",
       "      <th></th>\n",
       "      <th>ques_link</th>\n",
       "      <th>vote_count</th>\n",
       "      <th>answer_count</th>\n",
       "      <th>ques_title</th>\n",
       "      <th>ques_summ</th>\n",
       "      <th>keywords</th>\n",
       "      <th>date</th>\n",
       "    </tr>\n",
       "  </thead>\n",
       "  <tbody>\n",
       "    <tr>\n",
       "      <th>0</th>\n",
       "      <td>[&lt;a class=\"s-link\" href=\"/questions/11227809/w...</td>\n",
       "      <td>26265</td>\n",
       "      <td>28</td>\n",
       "      <td>Why is processing a sorted array faster than p...</td>\n",
       "      <td>Here is a piece of C++ code that shows some ve...</td>\n",
       "      <td>['\\njava', 'c++', 'performance', 'cpu-architec...</td>\n",
       "      <td>asked Jun 27, 2012 at 13:51</td>\n",
       "    </tr>\n",
       "  </tbody>\n",
       "</table>\n",
       "</div>"
      ],
      "text/plain": [
       "                                           ques_link  vote_count  \\\n",
       "0  [<a class=\"s-link\" href=\"/questions/11227809/w...       26265   \n",
       "\n",
       "   answer_count                                         ques_title  \\\n",
       "0            28  Why is processing a sorted array faster than p...   \n",
       "\n",
       "                                           ques_summ  \\\n",
       "0  Here is a piece of C++ code that shows some ve...   \n",
       "\n",
       "                                            keywords  \\\n",
       "0  ['\\njava', 'c++', 'performance', 'cpu-architec...   \n",
       "\n",
       "                          date  \n",
       "0  asked Jun 27, 2012 at 13:51  "
      ]
     },
     "execution_count": 500,
     "metadata": {},
     "output_type": "execute_result"
    }
   ],
   "source": [
    "query.head(1)"
   ]
  },
  {
   "cell_type": "markdown",
   "id": "0db7134a",
   "metadata": {},
   "source": [
    "**Cleaning the \"keywords\" column of dataframe**"
   ]
  },
  {
   "cell_type": "code",
   "execution_count": 501,
   "id": "adebd29b",
   "metadata": {},
   "outputs": [],
   "source": [
    "## Creating a list and appending the updated values to it"
   ]
  },
  {
   "cell_type": "code",
   "execution_count": 502,
   "id": "f6dabada",
   "metadata": {},
   "outputs": [],
   "source": [
    "lst = []\n",
    "for i in range(0,len(query)):\n",
    "       lst.append(query['keywords'][i].replace('\\\\n',''))"
   ]
  },
  {
   "cell_type": "code",
   "execution_count": 503,
   "id": "285ac136",
   "metadata": {},
   "outputs": [],
   "source": [
    "## Assigning the values of list to \"keywords\" column of the dataframe"
   ]
  },
  {
   "cell_type": "code",
   "execution_count": 504,
   "id": "3d934645",
   "metadata": {},
   "outputs": [],
   "source": [
    "query['keywords'] = lst"
   ]
  },
  {
   "cell_type": "code",
   "execution_count": 505,
   "id": "a08730e2",
   "metadata": {},
   "outputs": [],
   "source": [
    "## Viewing the updated dataset"
   ]
  },
  {
   "cell_type": "code",
   "execution_count": 506,
   "id": "9d0caedd",
   "metadata": {},
   "outputs": [
    {
     "data": {
      "text/html": [
       "<div>\n",
       "<style scoped>\n",
       "    .dataframe tbody tr th:only-of-type {\n",
       "        vertical-align: middle;\n",
       "    }\n",
       "\n",
       "    .dataframe tbody tr th {\n",
       "        vertical-align: top;\n",
       "    }\n",
       "\n",
       "    .dataframe thead th {\n",
       "        text-align: right;\n",
       "    }\n",
       "</style>\n",
       "<table border=\"1\" class=\"dataframe\">\n",
       "  <thead>\n",
       "    <tr style=\"text-align: right;\">\n",
       "      <th></th>\n",
       "      <th>ques_link</th>\n",
       "      <th>vote_count</th>\n",
       "      <th>answer_count</th>\n",
       "      <th>ques_title</th>\n",
       "      <th>ques_summ</th>\n",
       "      <th>keywords</th>\n",
       "      <th>date</th>\n",
       "    </tr>\n",
       "  </thead>\n",
       "  <tbody>\n",
       "    <tr>\n",
       "      <th>0</th>\n",
       "      <td>[&lt;a class=\"s-link\" href=\"/questions/11227809/w...</td>\n",
       "      <td>26265</td>\n",
       "      <td>28</td>\n",
       "      <td>Why is processing a sorted array faster than p...</td>\n",
       "      <td>Here is a piece of C++ code that shows some ve...</td>\n",
       "      <td>['java', 'c++', 'performance', 'cpu-architectu...</td>\n",
       "      <td>asked Jun 27, 2012 at 13:51</td>\n",
       "    </tr>\n",
       "    <tr>\n",
       "      <th>1</th>\n",
       "      <td>[&lt;a class=\"s-link\" href=\"/questions/927358/how...</td>\n",
       "      <td>24035</td>\n",
       "      <td>98</td>\n",
       "      <td>How do I undo the most recent local commits in...</td>\n",
       "      <td>I accidentally committed the wrong files to Gi...</td>\n",
       "      <td>['git', 'version-control', 'git-commit', 'undo']</td>\n",
       "      <td>\\r\\n\\r\\r\\n                    89 revs, 60 user...</td>\n",
       "    </tr>\n",
       "    <tr>\n",
       "      <th>2</th>\n",
       "      <td>[&lt;a class=\"s-link\" href=\"/questions/2003505/ho...</td>\n",
       "      <td>18997</td>\n",
       "      <td>41</td>\n",
       "      <td>How do I delete a Git branch locally and remot...</td>\n",
       "      <td>I want to delete a branch both locally and rem...</td>\n",
       "      <td>['git', 'version-control', 'git-branch', 'git-...</td>\n",
       "      <td>asked Jan 5, 2010 at 1:12</td>\n",
       "    </tr>\n",
       "    <tr>\n",
       "      <th>3</th>\n",
       "      <td>[&lt;a class=\"s-link\" href=\"/questions/292357/wha...</td>\n",
       "      <td>13069</td>\n",
       "      <td>38</td>\n",
       "      <td>What is the difference between 'git pull' and ...</td>\n",
       "      <td>What are the differences between git pull and ...</td>\n",
       "      <td>['git', 'version-control', 'git-pull', 'git-fe...</td>\n",
       "      <td>asked Nov 15, 2008 at 9:51</td>\n",
       "    </tr>\n",
       "    <tr>\n",
       "      <th>4</th>\n",
       "      <td>[&lt;a class=\"s-link\" href=\"/questions/231767/wha...</td>\n",
       "      <td>11895</td>\n",
       "      <td>47</td>\n",
       "      <td>What does the \"yield\" keyword do?</td>\n",
       "      <td>What is the use of the yield keyword in Python...</td>\n",
       "      <td>['python', 'iterator', 'generator', 'yield', '...</td>\n",
       "      <td>asked Oct 23, 2008 at 22:21</td>\n",
       "    </tr>\n",
       "  </tbody>\n",
       "</table>\n",
       "</div>"
      ],
      "text/plain": [
       "                                           ques_link  vote_count  \\\n",
       "0  [<a class=\"s-link\" href=\"/questions/11227809/w...       26265   \n",
       "1  [<a class=\"s-link\" href=\"/questions/927358/how...       24035   \n",
       "2  [<a class=\"s-link\" href=\"/questions/2003505/ho...       18997   \n",
       "3  [<a class=\"s-link\" href=\"/questions/292357/wha...       13069   \n",
       "4  [<a class=\"s-link\" href=\"/questions/231767/wha...       11895   \n",
       "\n",
       "   answer_count                                         ques_title  \\\n",
       "0            28  Why is processing a sorted array faster than p...   \n",
       "1            98  How do I undo the most recent local commits in...   \n",
       "2            41  How do I delete a Git branch locally and remot...   \n",
       "3            38  What is the difference between 'git pull' and ...   \n",
       "4            47                  What does the \"yield\" keyword do?   \n",
       "\n",
       "                                           ques_summ  \\\n",
       "0  Here is a piece of C++ code that shows some ve...   \n",
       "1  I accidentally committed the wrong files to Gi...   \n",
       "2  I want to delete a branch both locally and rem...   \n",
       "3  What are the differences between git pull and ...   \n",
       "4  What is the use of the yield keyword in Python...   \n",
       "\n",
       "                                            keywords  \\\n",
       "0  ['java', 'c++', 'performance', 'cpu-architectu...   \n",
       "1   ['git', 'version-control', 'git-commit', 'undo']   \n",
       "2  ['git', 'version-control', 'git-branch', 'git-...   \n",
       "3  ['git', 'version-control', 'git-pull', 'git-fe...   \n",
       "4  ['python', 'iterator', 'generator', 'yield', '...   \n",
       "\n",
       "                                                date  \n",
       "0                        asked Jun 27, 2012 at 13:51  \n",
       "1  \\r\\n\\r\\r\\n                    89 revs, 60 user...  \n",
       "2                          asked Jan 5, 2010 at 1:12  \n",
       "3                         asked Nov 15, 2008 at 9:51  \n",
       "4                        asked Oct 23, 2008 at 22:21  "
      ]
     },
     "execution_count": 506,
     "metadata": {},
     "output_type": "execute_result"
    }
   ],
   "source": [
    "query.head()"
   ]
  },
  {
   "cell_type": "markdown",
   "id": "04b40d00",
   "metadata": {},
   "source": [
    "**Cleaning the date column of the dataframe**"
   ]
  },
  {
   "cell_type": "code",
   "execution_count": 507,
   "id": "75507574",
   "metadata": {},
   "outputs": [],
   "source": [
    "## Creating a list of dates to assign to fields with no dates"
   ]
  },
  {
   "cell_type": "code",
   "execution_count": 508,
   "id": "81833ff9",
   "metadata": {},
   "outputs": [],
   "source": [
    "dates = pd.date_range(start='01-01-2010',end='31-12-2016')"
   ]
  },
  {
   "cell_type": "code",
   "execution_count": 509,
   "id": "759116cf",
   "metadata": {},
   "outputs": [],
   "source": [
    "## Separating \"asked\" and \"time\" from the elements of date column"
   ]
  },
  {
   "cell_type": "code",
   "execution_count": 510,
   "id": "3eeb6acb",
   "metadata": {},
   "outputs": [],
   "source": [
    "query[['temp1', 'date' , 'temp2']] = query['date'].str.split('asked | at',expand=True)"
   ]
  },
  {
   "cell_type": "code",
   "execution_count": 511,
   "id": "0c4ab42a",
   "metadata": {},
   "outputs": [],
   "source": [
    "## Concatinating columns temp1 and date to complete the column date again"
   ]
  },
  {
   "cell_type": "code",
   "execution_count": 512,
   "id": "bcee4b51",
   "metadata": {},
   "outputs": [],
   "source": [
    "query['date'] = query['date'] + query['temp1']"
   ]
  },
  {
   "cell_type": "code",
   "execution_count": 513,
   "id": "85ff5f80",
   "metadata": {},
   "outputs": [],
   "source": [
    "## Dropping the temporary variables created"
   ]
  },
  {
   "cell_type": "code",
   "execution_count": 514,
   "id": "2ce7ed57",
   "metadata": {},
   "outputs": [],
   "source": [
    "query.drop(['temp1','temp2'],axis=1,inplace = True)"
   ]
  },
  {
   "cell_type": "code",
   "execution_count": 515,
   "id": "a9f82cc1",
   "metadata": {},
   "outputs": [],
   "source": [
    "## Checking for null values"
   ]
  },
  {
   "cell_type": "code",
   "execution_count": 516,
   "id": "271ee54b",
   "metadata": {},
   "outputs": [
    {
     "data": {
      "text/plain": [
       "ques_link         0\n",
       "vote_count        0\n",
       "answer_count      0\n",
       "ques_title        0\n",
       "ques_summ         0\n",
       "keywords          0\n",
       "date            216\n",
       "dtype: int64"
      ]
     },
     "execution_count": 516,
     "metadata": {},
     "output_type": "execute_result"
    }
   ],
   "source": [
    "query.isnull().sum()"
   ]
  },
  {
   "cell_type": "code",
   "execution_count": 517,
   "id": "50bec7d3",
   "metadata": {},
   "outputs": [],
   "source": [
    "## Filling null values in our column dates with random dates selected from column dates"
   ]
  },
  {
   "cell_type": "code",
   "execution_count": 518,
   "id": "c0754539",
   "metadata": {},
   "outputs": [],
   "source": [
    "query['date'] = query['date'].fillna(dates[random.randint(0,len(dates))])"
   ]
  },
  {
   "cell_type": "code",
   "execution_count": 519,
   "id": "7219539c",
   "metadata": {},
   "outputs": [],
   "source": [
    "## Again checking for null values in our dataset"
   ]
  },
  {
   "cell_type": "code",
   "execution_count": 520,
   "id": "fdc60fab",
   "metadata": {},
   "outputs": [
    {
     "data": {
      "text/plain": [
       "ques_link       0\n",
       "vote_count      0\n",
       "answer_count    0\n",
       "ques_title      0\n",
       "ques_summ       0\n",
       "keywords        0\n",
       "date            0\n",
       "dtype: int64"
      ]
     },
     "execution_count": 520,
     "metadata": {},
     "output_type": "execute_result"
    }
   ],
   "source": [
    "query.isnull().sum()"
   ]
  },
  {
   "cell_type": "code",
   "execution_count": 521,
   "id": "0b61d41d",
   "metadata": {},
   "outputs": [],
   "source": [
    "## Converting the entire column to 'date' type"
   ]
  },
  {
   "cell_type": "code",
   "execution_count": 522,
   "id": "bb3eba71",
   "metadata": {},
   "outputs": [],
   "source": [
    "query['date'] = pd.to_datetime(query['date'])"
   ]
  },
  {
   "cell_type": "code",
   "execution_count": 523,
   "id": "0854a740",
   "metadata": {},
   "outputs": [],
   "source": [
    "## Viewing the updated dataset"
   ]
  },
  {
   "cell_type": "code",
   "execution_count": 524,
   "id": "d268eddf",
   "metadata": {},
   "outputs": [
    {
     "data": {
      "text/html": [
       "<div>\n",
       "<style scoped>\n",
       "    .dataframe tbody tr th:only-of-type {\n",
       "        vertical-align: middle;\n",
       "    }\n",
       "\n",
       "    .dataframe tbody tr th {\n",
       "        vertical-align: top;\n",
       "    }\n",
       "\n",
       "    .dataframe thead th {\n",
       "        text-align: right;\n",
       "    }\n",
       "</style>\n",
       "<table border=\"1\" class=\"dataframe\">\n",
       "  <thead>\n",
       "    <tr style=\"text-align: right;\">\n",
       "      <th></th>\n",
       "      <th>ques_link</th>\n",
       "      <th>vote_count</th>\n",
       "      <th>answer_count</th>\n",
       "      <th>ques_title</th>\n",
       "      <th>ques_summ</th>\n",
       "      <th>keywords</th>\n",
       "      <th>date</th>\n",
       "    </tr>\n",
       "  </thead>\n",
       "  <tbody>\n",
       "    <tr>\n",
       "      <th>0</th>\n",
       "      <td>[&lt;a class=\"s-link\" href=\"/questions/11227809/w...</td>\n",
       "      <td>26265</td>\n",
       "      <td>28</td>\n",
       "      <td>Why is processing a sorted array faster than p...</td>\n",
       "      <td>Here is a piece of C++ code that shows some ve...</td>\n",
       "      <td>['java', 'c++', 'performance', 'cpu-architectu...</td>\n",
       "      <td>2012-06-27</td>\n",
       "    </tr>\n",
       "    <tr>\n",
       "      <th>1</th>\n",
       "      <td>[&lt;a class=\"s-link\" href=\"/questions/927358/how...</td>\n",
       "      <td>24035</td>\n",
       "      <td>98</td>\n",
       "      <td>How do I undo the most recent local commits in...</td>\n",
       "      <td>I accidentally committed the wrong files to Gi...</td>\n",
       "      <td>['git', 'version-control', 'git-commit', 'undo']</td>\n",
       "      <td>2010-06-30</td>\n",
       "    </tr>\n",
       "    <tr>\n",
       "      <th>2</th>\n",
       "      <td>[&lt;a class=\"s-link\" href=\"/questions/2003505/ho...</td>\n",
       "      <td>18997</td>\n",
       "      <td>41</td>\n",
       "      <td>How do I delete a Git branch locally and remot...</td>\n",
       "      <td>I want to delete a branch both locally and rem...</td>\n",
       "      <td>['git', 'version-control', 'git-branch', 'git-...</td>\n",
       "      <td>2010-01-05</td>\n",
       "    </tr>\n",
       "    <tr>\n",
       "      <th>3</th>\n",
       "      <td>[&lt;a class=\"s-link\" href=\"/questions/292357/wha...</td>\n",
       "      <td>13069</td>\n",
       "      <td>38</td>\n",
       "      <td>What is the difference between 'git pull' and ...</td>\n",
       "      <td>What are the differences between git pull and ...</td>\n",
       "      <td>['git', 'version-control', 'git-pull', 'git-fe...</td>\n",
       "      <td>2008-11-15</td>\n",
       "    </tr>\n",
       "    <tr>\n",
       "      <th>4</th>\n",
       "      <td>[&lt;a class=\"s-link\" href=\"/questions/231767/wha...</td>\n",
       "      <td>11895</td>\n",
       "      <td>47</td>\n",
       "      <td>What does the \"yield\" keyword do?</td>\n",
       "      <td>What is the use of the yield keyword in Python...</td>\n",
       "      <td>['python', 'iterator', 'generator', 'yield', '...</td>\n",
       "      <td>2008-10-23</td>\n",
       "    </tr>\n",
       "  </tbody>\n",
       "</table>\n",
       "</div>"
      ],
      "text/plain": [
       "                                           ques_link  vote_count  \\\n",
       "0  [<a class=\"s-link\" href=\"/questions/11227809/w...       26265   \n",
       "1  [<a class=\"s-link\" href=\"/questions/927358/how...       24035   \n",
       "2  [<a class=\"s-link\" href=\"/questions/2003505/ho...       18997   \n",
       "3  [<a class=\"s-link\" href=\"/questions/292357/wha...       13069   \n",
       "4  [<a class=\"s-link\" href=\"/questions/231767/wha...       11895   \n",
       "\n",
       "   answer_count                                         ques_title  \\\n",
       "0            28  Why is processing a sorted array faster than p...   \n",
       "1            98  How do I undo the most recent local commits in...   \n",
       "2            41  How do I delete a Git branch locally and remot...   \n",
       "3            38  What is the difference between 'git pull' and ...   \n",
       "4            47                  What does the \"yield\" keyword do?   \n",
       "\n",
       "                                           ques_summ  \\\n",
       "0  Here is a piece of C++ code that shows some ve...   \n",
       "1  I accidentally committed the wrong files to Gi...   \n",
       "2  I want to delete a branch both locally and rem...   \n",
       "3  What are the differences between git pull and ...   \n",
       "4  What is the use of the yield keyword in Python...   \n",
       "\n",
       "                                            keywords       date  \n",
       "0  ['java', 'c++', 'performance', 'cpu-architectu... 2012-06-27  \n",
       "1   ['git', 'version-control', 'git-commit', 'undo'] 2010-06-30  \n",
       "2  ['git', 'version-control', 'git-branch', 'git-... 2010-01-05  \n",
       "3  ['git', 'version-control', 'git-pull', 'git-fe... 2008-11-15  \n",
       "4  ['python', 'iterator', 'generator', 'yield', '... 2008-10-23  "
      ]
     },
     "execution_count": 524,
     "metadata": {},
     "output_type": "execute_result"
    }
   ],
   "source": [
    "query.head()"
   ]
  },
  {
   "cell_type": "markdown",
   "id": "c9c01f30",
   "metadata": {},
   "source": [
    "**Saving Clean Data to a new file**"
   ]
  },
  {
   "cell_type": "code",
   "execution_count": 541,
   "id": "f466b4a2",
   "metadata": {},
   "outputs": [],
   "source": [
    "query.to_csv('CleanData.csv')"
   ]
  },
  {
   "cell_type": "code",
   "execution_count": null,
   "id": "63013671",
   "metadata": {},
   "outputs": [],
   "source": []
  }
 ],
 "metadata": {
  "kernelspec": {
   "display_name": "Python 3 (ipykernel)",
   "language": "python",
   "name": "python3"
  },
  "language_info": {
   "codemirror_mode": {
    "name": "ipython",
    "version": 3
   },
   "file_extension": ".py",
   "mimetype": "text/x-python",
   "name": "python",
   "nbconvert_exporter": "python",
   "pygments_lexer": "ipython3",
   "version": "3.9.7"
  }
 },
 "nbformat": 4,
 "nbformat_minor": 5
}
